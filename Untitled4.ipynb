{
  "nbformat": 4,
  "nbformat_minor": 0,
  "metadata": {
    "colab": {
      "provenance": [],
      "authorship_tag": "ABX9TyNvZeRJKqUsBZDpdk9SSXYd",
      "include_colab_link": true
    },
    "kernelspec": {
      "name": "python3",
      "display_name": "Python 3"
    },
    "language_info": {
      "name": "python"
    }
  },
  "cells": [
    {
      "cell_type": "markdown",
      "metadata": {
        "id": "view-in-github",
        "colab_type": "text"
      },
      "source": [
        "<a href=\"https://colab.research.google.com/github/10933137/10933137-homework/blob/main/Untitled4.ipynb\" target=\"_parent\"><img src=\"https://colab.research.google.com/assets/colab-badge.svg\" alt=\"Open In Colab\"/></a>"
      ]
    },
    {
      "cell_type": "code",
      "execution_count": 1,
      "metadata": {
        "id": "Uwk6q9LSrlie"
      },
      "outputs": [],
      "source": [
        "import numpy as np"
      ]
    },
    {
      "cell_type": "code",
      "source": [
        "x = np.array([1, 2, 3])"
      ],
      "metadata": {
        "id": "0yKMR__tsI7y"
      },
      "execution_count": 2,
      "outputs": []
    },
    {
      "cell_type": "code",
      "source": [
        "x"
      ],
      "metadata": {
        "colab": {
          "base_uri": "https://localhost:8080/"
        },
        "id": "DLHSnhONsMS5",
        "outputId": "21dba0d0-811c-47fc-f269-ed669378aa55"
      },
      "execution_count": 3,
      "outputs": [
        {
          "output_type": "execute_result",
          "data": {
            "text/plain": [
              "array([1, 2, 3])"
            ]
          },
          "metadata": {},
          "execution_count": 3
        }
      ]
    },
    {
      "cell_type": "code",
      "source": [
        " y = np.arange(10)  # 類似 Python 的 range, 但是回傳 array"
      ],
      "metadata": {
        "id": "h8JAsLh_sVS6"
      },
      "execution_count": 4,
      "outputs": []
    },
    {
      "cell_type": "code",
      "source": [
        "y"
      ],
      "metadata": {
        "colab": {
          "base_uri": "https://localhost:8080/"
        },
        "id": "xhqoE0HlsXQL",
        "outputId": "e516a127-470f-4aa1-cc25-91a583868a7a"
      },
      "execution_count": 5,
      "outputs": [
        {
          "output_type": "execute_result",
          "data": {
            "text/plain": [
              "array([0, 1, 2, 3, 4, 5, 6, 7, 8, 9])"
            ]
          },
          "metadata": {},
          "execution_count": 5
        }
      ]
    },
    {
      "cell_type": "code",
      "source": [
        "a = np.array([1, 2, 3, 6])"
      ],
      "metadata": {
        "id": "hdKOxwAvsZAb"
      },
      "execution_count": 6,
      "outputs": []
    },
    {
      "cell_type": "code",
      "source": [
        "b = np.linspace(0, 2, 4)  # 建立一個array, 在0與2的範圍之間讓4個點3等分"
      ],
      "metadata": {
        "id": "cEREzob3scjy"
      },
      "execution_count": 7,
      "outputs": []
    },
    {
      "cell_type": "code",
      "source": [
        "c = a - b"
      ],
      "metadata": {
        "id": "ozxEZZgBsei0"
      },
      "execution_count": 8,
      "outputs": []
    },
    {
      "cell_type": "code",
      "source": [
        "c"
      ],
      "metadata": {
        "colab": {
          "base_uri": "https://localhost:8080/"
        },
        "id": "E1fsBJoHsgVl",
        "outputId": "b68bb7dc-dbd0-4cdc-97eb-01f948f46c83"
      },
      "execution_count": 9,
      "outputs": [
        {
          "output_type": "execute_result",
          "data": {
            "text/plain": [
              "array([1.        , 1.33333333, 1.66666667, 4.        ])"
            ]
          },
          "metadata": {},
          "execution_count": 9
        }
      ]
    },
    {
      "cell_type": "code",
      "source": [
        "a**2"
      ],
      "metadata": {
        "colab": {
          "base_uri": "https://localhost:8080/"
        },
        "id": "jOtg1i3csiSM",
        "outputId": "6b154273-de93-492d-96c3-5179927431ea"
      },
      "execution_count": 10,
      "outputs": [
        {
          "output_type": "execute_result",
          "data": {
            "text/plain": [
              "array([ 1,  4,  9, 36])"
            ]
          },
          "metadata": {},
          "execution_count": 10
        }
      ]
    },
    {
      "cell_type": "code",
      "source": [
        "a = np.linspace(-np.pi, np.pi, 100)"
      ],
      "metadata": {
        "id": "x4NZsBe6sjHk"
      },
      "execution_count": 11,
      "outputs": []
    },
    {
      "cell_type": "code",
      "source": [
        "b = np.sin(a)"
      ],
      "metadata": {
        "id": "Hgl1PjNasl9s"
      },
      "execution_count": 12,
      "outputs": []
    },
    {
      "cell_type": "code",
      "source": [
        "c = np.cos(a)"
      ],
      "metadata": {
        "id": "k5qW-tsEsmD8"
      },
      "execution_count": 13,
      "outputs": []
    },
    {
      "cell_type": "code",
      "source": [
        "from numpy.random import rand"
      ],
      "metadata": {
        "id": "kcHDgMtlsqIM"
      },
      "execution_count": 14,
      "outputs": []
    },
    {
      "cell_type": "code",
      "source": [
        "from numpy.linalg import solve, inv"
      ],
      "metadata": {
        "id": "n0-7rkNhssn1"
      },
      "execution_count": 15,
      "outputs": []
    },
    {
      "cell_type": "code",
      "source": [
        "a = np.array([[1, 2, 3], [3, 4, 6.7], [5, 9.0, 5]])"
      ],
      "metadata": {
        "id": "flIOdUESsst-"
      },
      "execution_count": 16,
      "outputs": []
    },
    {
      "cell_type": "code",
      "source": [
        "a.transpose()"
      ],
      "metadata": {
        "colab": {
          "base_uri": "https://localhost:8080/"
        },
        "id": "6LG5XpAfss0-",
        "outputId": "010d7284-ded7-4184-e331-010b67238873"
      },
      "execution_count": 17,
      "outputs": [
        {
          "output_type": "execute_result",
          "data": {
            "text/plain": [
              "array([[1. , 3. , 5. ],\n",
              "       [2. , 4. , 9. ],\n",
              "       [3. , 6.7, 5. ]])"
            ]
          },
          "metadata": {},
          "execution_count": 17
        }
      ]
    },
    {
      "cell_type": "code",
      "source": [
        "inv(a)"
      ],
      "metadata": {
        "colab": {
          "base_uri": "https://localhost:8080/"
        },
        "id": "oMxx5eJ4s2g2",
        "outputId": "91f0ae6f-12ea-47ef-f6d6-dc050e7b6e8c"
      },
      "execution_count": 18,
      "outputs": [
        {
          "output_type": "execute_result",
          "data": {
            "text/plain": [
              "array([[-2.27683616,  0.96045198,  0.07909605],\n",
              "       [ 1.04519774, -0.56497175,  0.1299435 ],\n",
              "       [ 0.39548023,  0.05649718, -0.11299435]])"
            ]
          },
          "metadata": {},
          "execution_count": 18
        }
      ]
    },
    {
      "cell_type": "code",
      "source": [
        "b =  np.array([3, 2, 1])"
      ],
      "metadata": {
        "id": "ba51A9UMs3Ue"
      },
      "execution_count": 19,
      "outputs": []
    },
    {
      "cell_type": "code",
      "source": [
        "solve(a, b)  # 解方程式 ax = b"
      ],
      "metadata": {
        "colab": {
          "base_uri": "https://localhost:8080/"
        },
        "id": "B2PMtUQ_s5p-",
        "outputId": "d0278dbf-e3cc-4b31-9a3b-09db8bc74cc1"
      },
      "execution_count": 20,
      "outputs": [
        {
          "output_type": "execute_result",
          "data": {
            "text/plain": [
              "array([-4.83050847,  2.13559322,  1.18644068])"
            ]
          },
          "metadata": {},
          "execution_count": 20
        }
      ]
    },
    {
      "cell_type": "code",
      "source": [
        "c = rand(3, 3)  # 建立一個 3x3 隨機矩陣"
      ],
      "metadata": {
        "id": "UhnmIM2cs9S4"
      },
      "execution_count": 21,
      "outputs": []
    },
    {
      "cell_type": "code",
      "source": [
        "c"
      ],
      "metadata": {
        "colab": {
          "base_uri": "https://localhost:8080/"
        },
        "id": "omRNerJAs-RQ",
        "outputId": "d39228a8-2771-4c78-9a25-acb76904474c"
      },
      "execution_count": 22,
      "outputs": [
        {
          "output_type": "execute_result",
          "data": {
            "text/plain": [
              "array([[0.3829072 , 0.06597587, 0.30006145],\n",
              "       [0.85007093, 0.63931145, 0.46715494],\n",
              "       [0.15932473, 0.82634929, 0.39624908]])"
            ]
          },
          "metadata": {},
          "execution_count": 22
        }
      ]
    },
    {
      "cell_type": "code",
      "source": [
        "np.dot(a, c)  # 矩陣相乘"
      ],
      "metadata": {
        "colab": {
          "base_uri": "https://localhost:8080/"
        },
        "id": "W9KJ7ISbtAIo",
        "outputId": "96cbd7ad-e61e-4f36-b09d-50f0a3534fce"
      },
      "execution_count": 23,
      "outputs": [
        {
          "output_type": "execute_result",
          "data": {
            "text/plain": [
              "array([[ 2.56102326,  3.82364663,  2.42311857],\n",
              "       [ 5.61648102,  8.29171364,  5.42367294],\n",
              "       [10.36179801, 10.21542885,  7.68594708]])"
            ]
          },
          "metadata": {},
          "execution_count": 23
        }
      ]
    }
  ]
}