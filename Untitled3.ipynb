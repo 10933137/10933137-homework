{
  "nbformat": 4,
  "nbformat_minor": 0,
  "metadata": {
    "colab": {
      "provenance": [],
      "authorship_tag": "ABX9TyN2YH3DZJb4kJgK+CfKud4B",
      "include_colab_link": true
    },
    "kernelspec": {
      "name": "python3",
      "display_name": "Python 3"
    },
    "language_info": {
      "name": "python"
    }
  },
  "cells": [
    {
      "cell_type": "markdown",
      "metadata": {
        "id": "view-in-github",
        "colab_type": "text"
      },
      "source": [
        "<a href=\"https://colab.research.google.com/github/10933137/10933137-homework/blob/main/Untitled3.ipynb\" target=\"_parent\"><img src=\"https://colab.research.google.com/assets/colab-badge.svg\" alt=\"Open In Colab\"/></a>"
      ]
    },
    {
      "cell_type": "code",
      "source": [
        "import random\n",
        "\n",
        "def guess_number():\n",
        "    secret_number = random.randint(1, 100)\n",
        "    attempts = 0\n",
        "\n",
        "    print(\"Welcome to the Guess the Number game!\")\n",
        "    print(\"I'm thinking of a number between 1 and 100.\")\n",
        "\n",
        "    while True:\n",
        "        user_guess = int(input(\"Take a guess: \"))\n",
        "        attempts += 1\n",
        "\n",
        "        if user_guess < secret_number:\n",
        "            print(\"Too low!\")\n",
        "        elif user_guess > secret_number:\n",
        "            print(\"Too high!\")\n",
        "        else:\n",
        "            print(\"Congratulations! You guessed the number in\", attempts, \"attempts.\")\n",
        "            break\n",
        "\n",
        "guess_number()"
      ],
      "metadata": {
        "colab": {
          "base_uri": "https://localhost:8080/"
        },
        "id": "o0frprnSG5gD",
        "outputId": "c3dde450-a6ed-412d-e499-612c060771e0"
      },
      "execution_count": 3,
      "outputs": [
        {
          "output_type": "stream",
          "name": "stdout",
          "text": [
            "Welcome to the Guess the Number game!\n",
            "I'm thinking of a number between 1 and 100.\n",
            "Take a guess: 10\n",
            "Too low!\n",
            "Take a guess: 50\n",
            "Too high!\n",
            "Take a guess: 35\n",
            "Too low!\n",
            "Take a guess: 45\n",
            "Too high!\n",
            "Take a guess: 40\n",
            "Too high!\n",
            "Take a guess: 39\n",
            "Too high!\n",
            "Take a guess: 37\n",
            "Too high!\n",
            "Take a guess: 36\n",
            "Congratulations! You guessed the number in 8 attempts.\n"
          ]
        }
      ]
    }
  ]
}